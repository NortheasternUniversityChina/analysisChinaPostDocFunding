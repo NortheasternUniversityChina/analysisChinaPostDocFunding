{
 "cells": [
  {
   "cell_type": "code",
   "execution_count": 16,
   "metadata": {},
   "outputs": [],
   "source": [
    "import pandas as pd\n",
    "import numpy as np"
   ]
  },
  {
   "cell_type": "code",
   "execution_count": 17,
   "metadata": {},
   "outputs": [],
   "source": [
    "postdocFunding = pd.read_excel('67ChinaPostDocFundingData.xlsx')"
   ]
  },
  {
   "cell_type": "code",
   "execution_count": 18,
   "metadata": {
    "scrolled": true
   },
   "outputs": [],
   "source": [
    "def preProcessData():\n",
    "    data = []\n",
    "    for x in postdocFunding['第67批面上资助拟资助人员名单（军队系统拟资助人员名单略）']:\n",
    "        x = x.strip().split(' ')\n",
    "        if '序号' in x:\n",
    "            columsName = x\n",
    "        else:\n",
    "            while '' in x:\n",
    "                x.remove('')    \n",
    "            if len(x) > 7:\n",
    "                x = x[0:4] + x[-3:]\n",
    "            data.append(x)\n",
    "           \n",
    "    data = pd.DataFrame(data, columns = columsName)\n",
    "    data.to_csv('第67批面上资助拟资助人员名单.csv', index = 'False',encoding='utf_8_sig')\n",
    "    return data"
   ]
  },
  {
   "cell_type": "code",
   "execution_count": 19,
   "metadata": {},
   "outputs": [],
   "source": [
    "def analysisBySubject(postdocFundingData):\n",
    "    grouped = postdocFundingData.groupby('一级学科')\n",
    "    grouped = grouped.agg((np.size))\n",
    "    grouped = grouped.sort_values(\"序号\", ascending = False)\n",
    "    print(grouped.head())\n",
    "    grouped['序号'].to_csv('按照一级学科排序.csv', encoding='utf_8_sig')\n",
    "    \n",
    "def analysisByUniversity(postdocFundingData):\n",
    "    grouped = postdocFundingData.groupby('设站单位名称')\n",
    "    grouped = grouped.agg((np.size))\n",
    "    grouped = grouped.sort_values(\"序号\", ascending = False)\n",
    "    print(grouped.head())\n",
    "    grouped['序号'].to_csv('按照设站单位排序.csv', index = 'False', encoding='utf_8_sig')\n",
    "\n",
    "def analysisByArea(postdocFundingData):\n",
    "    grouped = postdocFundingData.groupby('省份')\n",
    "    grouped = grouped.agg((np.size))\n",
    "    grouped = grouped.sort_values(\"序号\", ascending = False)\n",
    "    print(grouped.head())\n",
    "    grouped['序号'].to_csv('按照省份排序.csv', index = 'False', encoding='utf_8_sig')"
   ]
  },
  {
   "cell_type": "code",
   "execution_count": 20,
   "metadata": {},
   "outputs": [
    {
     "name": "stdout",
     "output_type": "stream",
     "text": [
      "          序号   省份  设站单位名称   姓名  博士后编号  资助等级\n",
      "一级学科                                       \n",
      "生物学      276  276     276  276    276   276\n",
      "临床医学     266  266     266  266    266   266\n",
      "材料科学与工程  254  254     254  254    254   254\n",
      "化学       225  225     225  225    225   225\n",
      "物理学      110  110     110  110    110   110\n",
      "         序号   省份   姓名  博士后编号  一级学科  资助等级\n",
      "设站单位名称                                  \n",
      "中山大学    130  130  130    130   130   130\n",
      "清华大学    119  119  119    119   119   119\n",
      "浙江大学     99   99   99     99    99    99\n",
      "四川大学     83   83   83     83    83    83\n",
      "西安交通大学   81   81   81     81    81    81\n",
      "      序号  设站单位名称   姓名  博士后编号  一级学科  资助等级\n",
      "省份                                      \n",
      "北京市  610     610  610    610   610   610\n",
      "广东省  569     569  569    569   569   569\n",
      "江苏省  391     391  391    391   391   391\n",
      "上海市  331     331  331    331   331   331\n",
      "陕西省  209     209  209    209   209   209\n"
     ]
    },
    {
     "name": "stderr",
     "output_type": "stream",
     "text": [
      "C:\\ProgramData\\Anaconda3\\lib\\site-packages\\ipykernel_launcher.py:6: FutureWarning: The signature of `Series.to_csv` was aligned to that of `DataFrame.to_csv`, and argument 'header' will change its default value from False to True: please pass an explicit value to suppress this warning.\n",
      "  \n",
      "C:\\ProgramData\\Anaconda3\\lib\\site-packages\\ipykernel_launcher.py:13: FutureWarning: The signature of `Series.to_csv` was aligned to that of `DataFrame.to_csv`, and argument 'header' will change its default value from False to True: please pass an explicit value to suppress this warning.\n",
      "  del sys.path[0]\n",
      "C:\\ProgramData\\Anaconda3\\lib\\site-packages\\ipykernel_launcher.py:20: FutureWarning: The signature of `Series.to_csv` was aligned to that of `DataFrame.to_csv`, and argument 'header' will change its default value from False to True: please pass an explicit value to suppress this warning.\n"
     ]
    }
   ],
   "source": [
    "postdocFundingData = preProcessData()\n",
    "analysisBySubject(postdocFundingData)\n",
    "analysisByUniversity(postdocFundingData)\n",
    "analysisByArea(postdocFundingData)"
   ]
  }
 ],
 "metadata": {
  "kernelspec": {
   "display_name": "Python 3",
   "language": "python",
   "name": "python3"
  },
  "language_info": {
   "codemirror_mode": {
    "name": "ipython",
    "version": 3
   },
   "file_extension": ".py",
   "mimetype": "text/x-python",
   "name": "python",
   "nbconvert_exporter": "python",
   "pygments_lexer": "ipython3",
   "version": "3.6.5"
  }
 },
 "nbformat": 4,
 "nbformat_minor": 2
}
